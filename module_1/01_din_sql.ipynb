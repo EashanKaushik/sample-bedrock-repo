version https://git-lfs.github.com/spec/v1
oid sha256:a5b8baf0a34fddae6570ca3fdeb703b7af2dc6ba0993db144aa80a9b399e55c2
size 24229
